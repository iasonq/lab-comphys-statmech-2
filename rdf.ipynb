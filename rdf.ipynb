{
 "cells": [
  {
   "cell_type": "code",
   "execution_count": 9,
   "metadata": {},
   "outputs": [],
   "source": [
    "import numpy as np\n",
    "import matplotlib.pyplot as plt"
   ]
  },
  {
   "cell_type": "code",
   "execution_count": 10,
   "metadata": {},
   "outputs": [],
   "source": [
    "#we need to read the file\n",
    "#../input_data/trajNaCl.pdb\n",
    "#500 timeframes\n",
    "\n",
    "#bash command to filter\n",
    "#grep ATOM trajNaCl.pdb | tr -s ' ' | cut -d' ' -f6-8 > filter_trajNaCl.txt"
   ]
  },
  {
   "cell_type": "code",
   "execution_count": 11,
   "metadata": {},
   "outputs": [],
   "source": [
    "def data_init():\n",
    "    data = np.loadtxt(\"../input_data/filter_trajNaCl.txt\") #500 blocks of 40 lines\n",
    "    cell = 31.47\n",
    "    bins = 7 #total number of bins, also affects the amount of values g gets\n",
    "    ngr = 0 # what is ngr for ?\n",
    "    delg = cell/(2*bins) #delg is bin size\n",
    "    g = np.zeros(bins) \n",
    "    #First chunk over\n",
    "    npart = 40 #amount of particles\n",
    "    return data, cell, bins, ngr, delg, g, npart"
   ]
  },
  {
   "cell_type": "code",
   "execution_count": 12,
   "metadata": {},
   "outputs": [],
   "source": [
    "#I have to figure out how the periodic conditions are given, is box a vector or not?\n",
    "def rdf(g, ngr, cell, data, delg, npart):\n",
    "    for k in range(0, 500, npart): #k for the different timeframes\n",
    "        ngr = ngr + 1 #should be the right place for ngr, it seems to count timeframes?\n",
    "        #the actual pairing\n",
    "        #do it seperately for Na-Na, Na-Cl, Cl-Cl? Seems all at once is the right way\n",
    "        for i in range(k+0, k+npart-1):\n",
    "            for j in range(i+1, k+npart): #this needs to be fixed, should be right now?\n",
    "                #distance between a particle pair\n",
    "                r = data[i]-data[j]\n",
    "                #implement periodic boundary conditions\n",
    "                r = r - cell*np.round(r/cell)\n",
    "                r = np.linalg.norm(r)\n",
    "                #half-box check & contribution\n",
    "                if r <= cell/2: #this needs to be true in all fields to proceed right?\n",
    "                    l = int(r/delg) #ok so l has to be a scalar, but r is a vector and delg as well...\n",
    "                    g[l] = g[l] + 2\n",
    "    return g, ngr"
   ]
  },
  {
   "cell_type": "code",
   "execution_count": 13,
   "metadata": {},
   "outputs": [],
   "source": [
    "def grdf(g, ngr, bins, cell):\n",
    "    #rho = 20/cell**3 #That would be the density? It really doesn't seem to change much for the graph\n",
    "    #So far the problems seems to be the normalization of g(r)\n",
    "    rho = 1\n",
    "    r = [] \n",
    "    for i in range(0, bins):\n",
    "        r.append(delg*(i+0.5))  #So this will by the x-axis\n",
    "        vol = ((i+1)**3  - i**3 )*delg**3 \n",
    "        nid = (4/3)*np.pi*vol*rho  \n",
    "        #vol and nid, seem a bit weird to me\n",
    "        g[i] = g[i]/(ngr*npart*nid)  \n",
    "        #This is the normalization part, I need a a proper value for rho\n",
    "    return g, r"
   ]
  },
  {
   "cell_type": "code",
   "execution_count": 14,
   "metadata": {},
   "outputs": [],
   "source": [
    "data, cell, bins, ngr, delg, g, npart = data_init()\n",
    "g, ngr = rdf(g, ngr, cell, data, delg, npart)\n",
    "g, r = grdf(g, ngr, bins, cell)"
   ]
  },
  {
   "cell_type": "code",
   "execution_count": 15,
   "metadata": {},
   "outputs": [
    {
     "name": "stdout",
     "output_type": "stream",
     "text": [
      "length of g: 7\n",
      "values of g: [0.         0.00060053 0.00153173 0.0012585  0.00120997 0.00129701\n",
      " 0.00125017]\n"
     ]
    }
   ],
   "source": [
    "print(\"length of g:\", np.size(g))\n",
    "print(\"values of g:\", g)"
   ]
  },
  {
   "cell_type": "code",
   "execution_count": 16,
   "metadata": {},
   "outputs": [
    {
     "data": {
      "text/plain": [
       "(0.0, 0.0015317250708833008)"
      ]
     },
     "execution_count": 16,
     "metadata": {},
     "output_type": "execute_result"
    },
    {
     "data": {
      "image/png": "[encoded data removed]",
      "text/plain": [
       "<Figure size 432x288 with 1 Axes>"
      ]
     },
     "metadata": {
      "needs_background": "light"
     },
     "output_type": "display_data"
    }
   ],
   "source": [
    "plt.plot(r, g)\n",
    "plt.xlabel('r')\n",
    "plt.vlines(1, 0, 2*np.max(g), colors=\"red\")\n",
    "plt.ylabel('g(r)')\n",
    "plt.xlim( (0, np.max(r)*1.1) )\n",
    "plt.ylim( (0, np.max(g)) )"
   ]
  }
 ],
 "metadata": {
  "interpreter": {
   "hash": "73cd9ae7a6ba31af761c56d4bd9525bdb85d94ce10f402f23cb9624aa5128c81"
  },
  "kernelspec": {
   "display_name": "Python 3.8.8 ('gp-env')",
   "language": "python",
   "name": "python3"
  },
  "language_info": {
   "codemirror_mode": {
    "name": "ipython",
    "version": 3
   },
   "file_extension": ".py",
   "mimetype": "text/x-python",
   "name": "python",
   "nbconvert_exporter": "python",
   "pygments_lexer": "ipython3",
   "version": "3.8.8"
  },
  "orig_nbformat": 4
 },
 "nbformat": 4,
 "nbformat_minor": 2
}
