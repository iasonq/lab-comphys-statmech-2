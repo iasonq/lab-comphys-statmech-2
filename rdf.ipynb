{
 "cells": [
  {
   "cell_type": "code",
   "execution_count": 25,
   "metadata": {},
   "outputs": [],
   "source": [
    "import numpy as np\n",
    "import matplotlib.pyplot as plt"
   ]
  },
  {
   "cell_type": "code",
   "execution_count": 26,
   "metadata": {},
   "outputs": [],
   "source": [
    "#we need to read the file\n",
    "#../input_data/trajNaCl.pdb\n",
    "#500 timeframes\n",
    "\n",
    "#bash command to filter\n",
    "#grep ATOM trajNaCl.pdb | tr -s ' ' | cut -d' ' -f6-8 > filter_trajNaCl.txt"
   ]
  },
  {
   "cell_type": "code",
   "execution_count": 33,
   "metadata": {},
   "outputs": [],
   "source": [
    "def data_init():\n",
    "    data = np.loadtxt(\"../input_data/filter_trajNaCl.txt\") #500 blocks of 40 lines\n",
    "    cell = 31.47\n",
    "    bins = 16 #total number of bins, also affects the amount of values g gets\n",
    "    ngr = 0 # what is ngr for ?\n",
    "    delg = cell/(2*bins) #delg is bin size\n",
    "    g = np.zeros(bins) \n",
    "    #First chunk over\n",
    "    chunk = 40\n",
    "    npart = chunk*501 #amount of particles, 20040\n",
    "    return data, cell, bins, ngr, delg, g, npart, chunk"
   ]
  },
  {
   "cell_type": "code",
   "execution_count": 28,
   "metadata": {},
   "outputs": [],
   "source": [
    "#Based on Frenkel\n",
    "def rdf(g, ngr, cell, data, delg, npart, chunk):\n",
    "    for k in range(0, npart, chunk): #k for the different chunks/timeframes\n",
    "        ngr = ngr + 1   #not very improtant, only used for normalization\n",
    "        for i in range(k+0, k+chunk-1):\n",
    "            for j in range(i+1, k+chunk): #This should be OK\n",
    "                #distance between a particle pair\n",
    "                r = data[i]-data[j]\n",
    "                #implement periodic boundary conditions\n",
    "                r = r - cell*np.round(r/cell) # ok\n",
    "                r = np.linalg.norm(r) # ok\n",
    "                #half-box check & contribution\n",
    "                if r <= cell/2: #what is the reasoning here? \n",
    "                    #without the above condition, index l is out of bounds\n",
    "                    l = int(r/(delg))\n",
    "                    g[l] = g[l] + 2\n",
    "    return g, ngr"
   ]
  },
  {
   "cell_type": "code",
   "execution_count": 14,
   "metadata": {},
   "outputs": [],
   "source": [
    "#Attempt to my own understanding\n",
    "def rdf_variant(cell, data, npart, chunk):\n",
    "    bins = 7\n",
    "    d = np.zeros(bins)\n",
    "    rMax = bins # should be connected to the number of bins somehow\n",
    "    #for a cell of size 31, bins = 7 makes the most sense for an rMax of 14-15\n",
    "    for k in range(0, npart, chunk):\n",
    "        for i in range(k+0, k+chunk-1):\n",
    "            for j in range(i+1, k+chunk):\n",
    "                r = data[i]-data[j]\n",
    "                r = r - cell*np.round(r/cell)\n",
    "                r = np.linalg.norm(r)\n",
    "                index = np.round(bins*(r/rMax)) #Finding the shell that the particle is in\n",
    "                d[index] = d[index] + 2 #+1 or +2? +2 makes more sense\n",
    "    return d"
   ]
  },
  {
   "cell_type": "code",
   "execution_count": 39,
   "metadata": {},
   "outputs": [],
   "source": [
    "def grdf(g, ngr, bins, npart, cell):\n",
    "    rho = npart/(cell**3)\n",
    "    r = []\n",
    "    for i in range(0, bins): #i in [0, bins), inc +1\n",
    "        r.append(delg*(i+0.5))  #So this will be the x-axis\n",
    "        vol = ((i+1)**3  - i**3 )*delg**3 #what?\n",
    "        nid = (4/3)*np.pi*vol*rho\n",
    "        #vol and nid, seem a bit weird to me\n",
    "        g[i] = g[i]/(ngr*npart*nid)  \n",
    "        #This is the normalization part, I need a a proper value for rho\n",
    "        #Not so important for now\n",
    "    return g, r"
   ]
  },
  {
   "cell_type": "code",
   "execution_count": 40,
   "metadata": {},
   "outputs": [],
   "source": [
    "data, cell, bins, ngr, delg, g, npart, chunk = data_init()"
   ]
  },
  {
   "cell_type": "code",
   "execution_count": 41,
   "metadata": {},
   "outputs": [],
   "source": [
    "g, ngr = rdf(g, ngr, cell, data, delg, npart, chunk)"
   ]
  },
  {
   "cell_type": "code",
   "execution_count": 42,
   "metadata": {},
   "outputs": [
    {
     "data": {
      "text/plain": [
       "array([    0.,     0.,  1114.,  1440.,  5424., 12230., 12170., 17964.,\n",
       "       21322., 27052., 33430., 39956., 46348., 54888., 63670., 72150.])"
      ]
     },
     "execution_count": 42,
     "metadata": {},
     "output_type": "execute_result"
    }
   ],
   "source": [
    "g"
   ]
  },
  {
   "cell_type": "code",
   "execution_count": 43,
   "metadata": {},
   "outputs": [
    {
     "data": {
      "text/plain": [
       "[<matplotlib.lines.Line2D at 0x7f6d6607f9a0>]"
      ]
     },
     "execution_count": 43,
     "metadata": {},
     "output_type": "execute_result"
    },
    {
     "data": {
      "image/png": "[encoded data removed]",
      "text/plain": [
       "<Figure size 432x288 with 1 Axes>"
      ]
     },
     "metadata": {
      "needs_background": "light"
     },
     "output_type": "display_data"
    }
   ],
   "source": [
    "plt.plot(g)"
   ]
  },
  {
   "cell_type": "code",
   "execution_count": 44,
   "metadata": {},
   "outputs": [],
   "source": [
    "g, r = grdf(g, ngr, bins, npart, cell)"
   ]
  },
  {
   "cell_type": "code",
   "execution_count": 45,
   "metadata": {},
   "outputs": [
    {
     "name": "stdout",
     "output_type": "stream",
     "text": [
      "length of g: 16\n",
      "values of g: [0.00000000e+00 0.00000000e+00 2.27960581e-06 1.51317422e-06\n",
      " 3.45714831e-06 5.22532407e-06 3.72576126e-06 4.13280113e-06\n",
      " 3.82029034e-06 3.88113057e-06 3.92677980e-06 3.91308844e-06\n",
      " 3.84225621e-06 3.90137993e-06 3.92313864e-06 3.89071336e-06]\n"
     ]
    }
   ],
   "source": [
    "print(\"length of g:\", np.size(g))\n",
    "print(\"values of g:\", g)"
   ]
  },
  {
   "cell_type": "code",
   "execution_count": 46,
   "metadata": {},
   "outputs": [
    {
     "data": {
      "text/plain": [
       "(0.0, 5.7478564761386065e-06)"
      ]
     },
     "execution_count": 46,
     "metadata": {},
     "output_type": "execute_result"
    },
    {
     "data": {
      "image/png": "[encoded data removed]",
      "text/plain": [
       "<Figure size 432x288 with 1 Axes>"
      ]
     },
     "metadata": {
      "needs_background": "light"
     },
     "output_type": "display_data"
    }
   ],
   "source": [
    "plt.plot(r, g)\n",
    "plt.xlabel('r')\n",
    "plt.vlines(1, 0, 2*np.max(g), colors=\"red\")\n",
    "plt.ylabel('g(r)')\n",
    "plt.xlim( (0, np.max(r)*1.1) )\n",
    "plt.ylim( (0, np.max(g)*1.1) )"
   ]
  }
 ],
 "metadata": {
  "interpreter": {
   "hash": "73cd9ae7a6ba31af761c56d4bd9525bdb85d94ce10f402f23cb9624aa5128c81"
  },
  "kernelspec": {
   "display_name": "Python 3.8.8 ('gp-env')",
   "language": "python",
   "name": "python3"
  },
  "language_info": {
   "codemirror_mode": {
    "name": "ipython",
    "version": 3
   },
   "file_extension": ".py",
   "mimetype": "text/x-python",
   "name": "python",
   "nbconvert_exporter": "python",
   "pygments_lexer": "ipython3",
   "version": "3.8.8"
  },
  "orig_nbformat": 4
 },
 "nbformat": 4,
 "nbformat_minor": 2
}
