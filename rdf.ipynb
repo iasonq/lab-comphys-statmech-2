{
 "cells": [
  {
   "cell_type": "code",
   "execution_count": 104,
   "metadata": {},
   "outputs": [],
   "source": [
    "import numpy as np\n",
    "import matplotlib.pyplot as plt"
   ]
  },
  {
   "cell_type": "code",
   "execution_count": 105,
   "metadata": {},
   "outputs": [],
   "source": [
    "#we need to read the file\n",
    "#../input_data/trajNaCl.pdb\n",
    "#500 timeframes\n",
    "\n",
    "#bash command to filter\n",
    "#grep ATOM trajNaCl.pdb | tr -s ' ' | cut -d' ' -f6-8 > filter_trajNaCl.txt"
   ]
  },
  {
   "cell_type": "code",
   "execution_count": 106,
   "metadata": {},
   "outputs": [],
   "source": [
    "def data_init():\n",
    "    data = np.loadtxt(\"../input_data/filter_trajNaCl.txt\") #500 blocks of 40 lines\n",
    "    cell = 31.47\n",
    "    bins = 300 #total number of bins, also affects the amount of values g gets\n",
    "    ngr = 0 # what is ngr for ?\n",
    "    delg = cell/(2*bins) #delg is bin size\n",
    "    g = np.zeros(bins) \n",
    "    #First chunk over\n",
    "    chunk = 40\n",
    "    npart = chunk*501 #amount of particles, 20040\n",
    "    return data, cell, bins, ngr, delg, g, npart, chunk"
   ]
  },
  {
   "cell_type": "code",
   "execution_count": 107,
   "metadata": {},
   "outputs": [],
   "source": [
    "#Based on Frenkel\n",
    "def rdf(g, ngr, cell, data, delg, npart, chunk):\n",
    "    for k in range(0, npart, chunk): #k for the different chunks/timeframes\n",
    "        ngr = ngr + 1   #not very improtant, only used for normalization\n",
    "        for i in range(k+0, k+chunk-1):\n",
    "            for j in range(i+1, k+chunk): #This should be OK\n",
    "                #distance between a particle pair\n",
    "                r = data[i]-data[j]\n",
    "                #implement periodic boundary conditions\n",
    "                r = r - cell*np.round(r/cell) # ok\n",
    "                r = np.linalg.norm(r) # ok\n",
    "                #half-box check & contribution\n",
    "                if r <= cell/2: #what is the reasoning here? - makes sense now, maximum radius, otherwise outside of the box, invalid data\n",
    "                    l = int(r/(delg))\n",
    "                    g[l] = g[l] + 2\n",
    "    return g, ngr"
   ]
  },
  {
   "cell_type": "code",
   "execution_count": 108,
   "metadata": {},
   "outputs": [],
   "source": [
    "#Attempt to my own understanding - not used at all\n",
    "def rdf_variant(cell, data, npart, chunk):\n",
    "    bins = 7\n",
    "    d = np.zeros(bins)\n",
    "    rMax = bins # should be connected to the number of bins somehow\n",
    "    #for a cell of size 31, bins = 7 makes the most sense for an rMax of 14-15\n",
    "    for k in range(0, npart, chunk):\n",
    "        for i in range(k+0, k+chunk-1):\n",
    "            for j in range(i+1, k+chunk):\n",
    "                r = data[i]-data[j]\n",
    "                r = r - cell*np.round(r/cell)\n",
    "                r = np.linalg.norm(r)\n",
    "                index = np.round(bins*(r/rMax)) #Finding the shell that the particle is in\n",
    "                d[index] = d[index] + 2 #+1 or +2? +2 makes more sense\n",
    "    return d"
   ]
  },
  {
   "cell_type": "code",
   "execution_count": 109,
   "metadata": {},
   "outputs": [],
   "source": [
    "def grdf(g, ngr, bins, npart, cell):\n",
    "    rho = npart/(cell**3)\n",
    "    r = []\n",
    "    for i in range(0, bins): #i in [0, bins), inc +1\n",
    "        r.append(delg*(i+0.5))  #So this will be the x-axis\n",
    "        vol = ((i+1)**3  - i**3 )*delg**3 #what?\n",
    "        nid = (4/3)*np.pi*vol*rho\n",
    "        #vol and nid, seem a bit weird to me\n",
    "        g[i] = g[i]/(ngr*npart*nid)  \n",
    "        #This is the normalization part, I need a a proper value for rho\n",
    "        #Not so important for now\n",
    "    return g, r"
   ]
  },
  {
   "cell_type": "code",
   "execution_count": 110,
   "metadata": {},
   "outputs": [],
   "source": [
    "data, cell, bins, ngr, delg, g, npart, chunk = data_init()"
   ]
  },
  {
   "cell_type": "code",
   "execution_count": 111,
   "metadata": {},
   "outputs": [],
   "source": [
    "g, ngr = rdf(g, ngr, cell, data, delg, npart, chunk)"
   ]
  },
  {
   "cell_type": "code",
   "execution_count": 112,
   "metadata": {},
   "outputs": [
    {
     "data": {
      "text/plain": [
       "array([   0.,    0.,    0.,    0.,    0.,    0.,    0.,    0.,    0.,\n",
       "          0.,    0.,    0.,    0.,    0.,    0.,    0.,    0.,    0.,\n",
       "          0.,    0.,    0.,    0.,    0.,    0.,    0.,    0.,    0.,\n",
       "          0.,    0.,    0.,    0.,    0.,    0.,    0.,    0.,    0.,\n",
       "          0.,    0.,    0.,    0.,    0.,    0.,    0.,    0.,    0.,\n",
       "          0.,    0.,    0.,    0.,    8.,   30.,  118.,  198.,  230.,\n",
       "        254.,  240.,  186.,  136.,  120.,   58.,   46.,   58.,   46.,\n",
       "         52.,   40.,   72.,   68.,   56.,   68.,   86.,   82.,   84.,\n",
       "         66.,   80.,   72.,   76.,   78.,   88.,  110.,   92.,  130.,\n",
       "        170.,  192.,  188.,  254.,  326.,  340.,  390.,  424.,  474.,\n",
       "        500.,  486.,  624.,  626.,  658.,  696.,  650.,  720.,  734.,\n",
       "        764.,  694.,  786.,  752.,  698.,  676.,  686.,  586.,  556.,\n",
       "        622.,  536.,  510.,  506.,  526.,  568.,  586.,  584.,  504.,\n",
       "        570.,  532.,  570.,  616.,  612.,  648.,  618.,  676.,  642.,\n",
       "        712.,  754.,  784.,  832.,  846.,  906.,  818.,  832.,  840.,\n",
       "        772.,  932.,  918.,  948., 1012.,  944., 1020., 1034., 1018.,\n",
       "       1020., 1002.,  986., 1044., 1090., 1074., 1024., 1112., 1052.,\n",
       "       1114., 1158., 1056., 1078., 1110., 1122., 1084., 1116., 1154.,\n",
       "       1098., 1168., 1184., 1200., 1270., 1218., 1320., 1280., 1296.,\n",
       "       1248., 1302., 1360., 1472., 1452., 1388., 1436., 1526., 1384.,\n",
       "       1450., 1454., 1554., 1550., 1532., 1598., 1640., 1644., 1654.,\n",
       "       1678., 1698., 1656., 1692., 1728., 1712., 1792., 1666., 1886.,\n",
       "       1682., 1860., 1850., 1846., 1910., 1924., 1918., 1990., 1902.,\n",
       "       1956., 1992., 2062., 2056., 2056., 2004., 2120., 2048., 2104.,\n",
       "       2096., 2228., 2212., 2152., 2200., 2156., 2324., 2358., 2388.,\n",
       "       2278., 2346., 2380., 2336., 2264., 2338., 2450., 2528., 2498.,\n",
       "       2550., 2398., 2438., 2652., 2432., 2544., 2642., 2550., 2694.,\n",
       "       2728., 2786., 2718., 2762., 2722., 2892., 2866., 2994., 2808.,\n",
       "       2958., 2944., 2962., 2906., 3014., 3020., 3046., 3060., 3186.,\n",
       "       2922., 3246., 3184., 3326., 3232., 3286., 3278., 3320., 3418.,\n",
       "       3320., 3356., 3336., 3506., 3462., 3548., 3408., 3490., 3494.,\n",
       "       3650., 3512., 3772., 3460., 3440., 3634., 3772., 3762., 3688.,\n",
       "       4082., 3768., 3832., 3878., 3912., 3854., 4002., 3928., 4052.,\n",
       "       4032., 4166., 4038.])"
      ]
     },
     "execution_count": 112,
     "metadata": {},
     "output_type": "execute_result"
    }
   ],
   "source": [
    "g"
   ]
  },
  {
   "cell_type": "code",
   "execution_count": 113,
   "metadata": {},
   "outputs": [
    {
     "data": {
      "text/plain": [
       "[<matplotlib.lines.Line2D at 0x7f6d655e6cd0>]"
      ]
     },
     "execution_count": 113,
     "metadata": {},
     "output_type": "execute_result"
    },
    {
     "data": {
      "image/png": "[encoded data removed]",
      "text/plain": [
       "<Figure size 432x288 with 1 Axes>"
      ]
     },
     "metadata": {
      "needs_background": "light"
     },
     "output_type": "display_data"
    }
   ],
   "source": [
    "plt.plot(g)"
   ]
  },
  {
   "cell_type": "code",
   "execution_count": 114,
   "metadata": {},
   "outputs": [],
   "source": [
    "g, r = grdf(g, ngr, bins, npart, cell)"
   ]
  },
  {
   "cell_type": "code",
   "execution_count": 115,
   "metadata": {},
   "outputs": [
    {
     "name": "stdout",
     "output_type": "stream",
     "text": [
      "length of g: 300\n",
      "values of g: [0.00000000e+00 0.00000000e+00 0.00000000e+00 0.00000000e+00\n",
      " 0.00000000e+00 0.00000000e+00 0.00000000e+00 0.00000000e+00\n",
      " 0.00000000e+00 0.00000000e+00 0.00000000e+00 0.00000000e+00\n",
      " 0.00000000e+00 0.00000000e+00 0.00000000e+00 0.00000000e+00\n",
      " 0.00000000e+00 0.00000000e+00 0.00000000e+00 0.00000000e+00\n",
      " 0.00000000e+00 0.00000000e+00 0.00000000e+00 0.00000000e+00\n",
      " 0.00000000e+00 0.00000000e+00 0.00000000e+00 0.00000000e+00\n",
      " 0.00000000e+00 0.00000000e+00 0.00000000e+00 0.00000000e+00\n",
      " 0.00000000e+00 0.00000000e+00 0.00000000e+00 0.00000000e+00\n",
      " 0.00000000e+00 0.00000000e+00 0.00000000e+00 0.00000000e+00\n",
      " 0.00000000e+00 0.00000000e+00 0.00000000e+00 0.00000000e+00\n",
      " 0.00000000e+00 0.00000000e+00 0.00000000e+00 0.00000000e+00\n",
      " 0.00000000e+00 2.78917360e-07 1.00492820e-06 3.80070910e-06\n",
      " 6.13683123e-06 6.86464930e-06 7.30532017e-06 6.65616767e-06\n",
      " 4.97754779e-06 3.51401005e-06 2.99550236e-06 1.39956981e-06\n",
      " 1.07361340e-06 1.31002300e-06 1.00600296e-06 1.10168553e-06\n",
      " 8.21377098e-07 1.43367987e-06 1.31361520e-06 1.04998541e-06\n",
      " 1.23802890e-06 1.52101002e-06 1.40941557e-06 1.40368885e-06\n",
      " 1.07268390e-06 1.26508392e-06 1.10821534e-06 1.13900090e-06\n",
      " 1.13861336e-06 1.25165307e-06 1.52495920e-06 1.24353660e-06\n",
      " 1.71378656e-06 2.18644714e-06 2.40989844e-06 2.30351176e-06\n",
      " 3.03896681e-06 3.80970324e-06 3.88197373e-06 4.35165544e-06\n",
      " 4.62471976e-06 5.05520160e-06 5.21529830e-06 4.95907282e-06\n",
      " 6.23028081e-06 6.11727069e-06 6.29461179e-06 6.51942442e-06\n",
      " 5.96301045e-06 6.47038592e-06 6.46294702e-06 6.59256269e-06\n",
      " 5.86995120e-06 6.51774966e-06 6.11473150e-06 5.56649818e-06\n",
      " 5.28836628e-06 5.26534305e-06 4.41373177e-06 4.11022369e-06\n",
      " 4.51376101e-06 3.81895253e-06 3.56823446e-06 3.47703128e-06\n",
      " 3.55049223e-06 3.76673034e-06 3.81851595e-06 3.73987333e-06\n",
      " 3.17239127e-06 3.52701436e-06 3.23655567e-06 3.40994393e-06\n",
      " 3.62422250e-06 3.54166224e-06 3.68902114e-06 3.46148867e-06\n",
      " 3.72577295e-06 3.48221840e-06 3.80108348e-06 3.96241060e-06\n",
      " 4.05619049e-06 4.23830648e-06 4.24382964e-06 4.47595103e-06\n",
      " 3.98043203e-06 3.98813170e-06 3.96682867e-06 3.59209212e-06\n",
      " 4.27326075e-06 4.14807020e-06 4.22199418e-06 4.44263838e-06\n",
      " 4.08534031e-06 4.35207340e-06 4.35010515e-06 4.22330985e-06\n",
      " 4.17324105e-06 4.04343766e-06 3.92473832e-06 4.09944932e-06\n",
      " 4.22262657e-06 4.10516865e-06 3.86221179e-06 4.13893562e-06\n",
      " 3.86442803e-06 4.03903505e-06 4.14439177e-06 3.73088929e-06\n",
      " 3.76009940e-06 3.82270804e-06 3.81543105e-06 3.64013266e-06\n",
      " 3.70103714e-06 3.77981109e-06 3.55226180e-06 3.73264512e-06\n",
      " 3.73791385e-06 3.74278306e-06 3.91367418e-06 3.70874610e-06\n",
      " 3.97176526e-06 3.80609857e-06 3.80860310e-06 3.62489835e-06\n",
      " 3.73802581e-06 3.85966378e-06 4.12977590e-06 4.02737367e-06\n",
      " 3.80635782e-06 3.89374318e-06 4.09154831e-06 3.66958361e-06\n",
      " 3.80209712e-06 3.77068954e-06 3.98597818e-06 3.93250436e-06\n",
      " 3.84481713e-06 3.96733270e-06 4.02805936e-06 3.99492809e-06\n",
      " 3.97669703e-06 3.99193303e-06 3.99721451e-06 3.85773611e-06\n",
      " 3.90075471e-06 3.94268027e-06 3.86611100e-06 4.00547718e-06\n",
      " 3.68603689e-06 4.13063944e-06 3.64682378e-06 3.99242680e-06\n",
      " 3.93145040e-06 3.88410920e-06 3.97917607e-06 3.96904565e-06\n",
      " 3.91806683e-06 4.02568041e-06 3.81048520e-06 3.88099010e-06\n",
      " 3.91459746e-06 4.01356692e-06 3.96395595e-06 3.92656042e-06\n",
      " 3.79131417e-06 3.97328790e-06 3.80264076e-06 3.87044708e-06\n",
      " 3.82019412e-06 4.02352427e-06 3.95814964e-06 3.81577882e-06\n",
      " 3.86558721e-06 3.75414709e-06 4.01038520e-06 4.03272631e-06\n",
      " 4.04773098e-06 3.82710733e-06 3.90662402e-06 3.92847671e-06\n",
      " 3.82217408e-06 3.67215566e-06 3.75934941e-06 3.90547755e-06\n",
      " 3.99522472e-06 3.91407125e-06 3.96154465e-06 3.69383447e-06\n",
      " 3.72375836e-06 4.01657959e-06 3.65255610e-06 3.78892638e-06\n",
      " 3.90222901e-06 3.73521854e-06 3.91367012e-06 3.93057920e-06\n",
      " 3.98137886e-06 3.85262365e-06 3.88329120e-06 3.79618921e-06\n",
      " 4.00088108e-06 3.93319277e-06 4.07611554e-06 3.79254969e-06\n",
      " 3.96356116e-06 3.91374064e-06 3.90678624e-06 3.80297940e-06\n",
      " 3.91362028e-06 3.89101278e-06 3.89420661e-06 3.88201216e-06\n",
      " 4.01088777e-06 3.65045520e-06 4.02439038e-06 3.91761745e-06\n",
      " 4.06144991e-06 3.91699047e-06 3.95260440e-06 3.91355641e-06\n",
      " 3.93422984e-06 4.02035819e-06 3.87626783e-06 3.88948875e-06\n",
      " 3.83798496e-06 4.00412377e-06 3.92511705e-06 3.99347210e-06\n",
      " 3.80819842e-06 3.87177141e-06 3.84842265e-06 3.99153097e-06\n",
      " 3.81328305e-06 4.06654100e-06 3.70381655e-06 3.65647487e-06\n",
      " 3.83557661e-06 3.95339075e-06 3.91543325e-06 3.81175961e-06\n",
      " 4.18978423e-06 3.84082087e-06 3.87921209e-06 3.89889004e-06\n",
      " 3.90622638e-06 3.82213309e-06 3.94200159e-06 3.84296847e-06\n",
      " 3.93758876e-06 3.89185724e-06 3.99430216e-06 3.84576714e-06]\n"
     ]
    }
   ],
   "source": [
    "print(\"length of g:\", np.size(g))\n",
    "print(\"values of g:\", g)"
   ]
  },
  {
   "cell_type": "code",
   "execution_count": 116,
   "metadata": {},
   "outputs": [
    {
     "data": {
      "text/plain": [
       "(0.0, 8.035852187870694e-06)"
      ]
     },
     "execution_count": 116,
     "metadata": {},
     "output_type": "execute_result"
    },
    {
     "data": {
      "image/png": "[encoded data removed]",
      "text/plain": [
       "<Figure size 432x288 with 1 Axes>"
      ]
     },
     "metadata": {
      "needs_background": "light"
     },
     "output_type": "display_data"
    }
   ],
   "source": [
    "plt.plot(r, g)\n",
    "plt.xlabel('r')\n",
    "plt.vlines(1, 0, 2*np.max(g), colors=\"red\")\n",
    "plt.ylabel('g(r)')\n",
    "plt.xlim( (0, np.max(r)*1.1) )\n",
    "plt.ylim( (0, np.max(g)*1.1) )"
   ]
  }
 ],
 "metadata": {
  "interpreter": {
   "hash": "73cd9ae7a6ba31af761c56d4bd9525bdb85d94ce10f402f23cb9624aa5128c81"
  },
  "kernelspec": {
   "display_name": "Python 3.8.8 ('gp-env')",
   "language": "python",
   "name": "python3"
  },
  "language_info": {
   "codemirror_mode": {
    "name": "ipython",
    "version": 3
   },
   "file_extension": ".py",
   "mimetype": "text/x-python",
   "name": "python",
   "nbconvert_exporter": "python",
   "pygments_lexer": "ipython3",
   "version": "3.8.8"
  },
  "orig_nbformat": 4
 },
 "nbformat": 4,
 "nbformat_minor": 2
}
