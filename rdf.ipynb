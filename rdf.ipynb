{
 "cells": [
  {
   "cell_type": "code",
   "execution_count": 2,
   "metadata": {},
   "outputs": [],
   "source": [
    "import numpy as np"
   ]
  },
  {
   "cell_type": "code",
   "execution_count": null,
   "metadata": {},
   "outputs": [],
   "source": [
    "#we need to read the file\n",
    "#../input_data/trajNaCl.pdb\n",
    "#500 timeframes\n",
    "\n",
    "#bash command to filter\n",
    "#grep ATOM trajNaCl.pdb | tr -s ' ' | cut -d' ' -f6-8 > filter_trajNaCl.txt"
   ]
  },
  {
   "cell_type": "code",
   "execution_count": 4,
   "metadata": {},
   "outputs": [],
   "source": [
    "data = np.loadtxt(\"../input_data/filter_trajNaCl.txt\") #500 blocks of 40 lines\n",
    "#Distances in Angstrom\n",
    "cell = np.zeros(3)+31.47\n",
    "#Since the box is square, cell 1-dimensional based on the check needed to do leater?"
   ]
  },
  {
   "cell_type": "code",
   "execution_count": null,
   "metadata": {},
   "outputs": [],
   "source": [
    "#Initialize data\n",
    "bins = ? #total number of bins\n",
    "ngr = 0 # what is ngr for ?\n",
    "delg = cell/(2*bins) #delg is bin size... ?\n",
    "g = np.zeros(bins) \n",
    "#First chunk over\n",
    "npart = 40 #amount of particles"
   ]
  },
  {
   "cell_type": "code",
   "execution_count": null,
   "metadata": {},
   "outputs": [],
   "source": [
    "#I have to figure out how the periodic conditions are given, is box a vector or not?\n",
    "def rdf(g, ngr, cell, data, delg):\n",
    "    ngr = ngr + 1 #should be the right place for ngr, it seems to count timeframes?\n",
    "    for k in range(0, 500, npart): #k for the different timeframes\n",
    "        #the actual pairing\n",
    "        #do it seperately for Na-Na, Na-Cl, Cl-Cl? Seems all at once is the right way\n",
    "        for i in range(k+0, k+npart-1):\n",
    "            for j in range(k+1, k+npart):\n",
    "                #distance between a particle pair\n",
    "                r = data[i]-data[j]\n",
    "                #implement periodic boundary conditions\n",
    "                r = r - cell*np.round(r/cell)\n",
    "                r = np.linalg.norm(r)\n",
    "                #half-box check & contribution\n",
    "                if r <= cell/2: #this needs to be true in all fields to proceed right?\n",
    "                    l = int(r/delg)\n",
    "                    g(l) = g(l) + 2\n",
    "    return g, ngr"
   ]
  },
  {
   "cell_type": "code",
   "execution_count": null,
   "metadata": {},
   "outputs": [],
   "source": [
    "def grdf(g, ngr):\n",
    "    rho = ? #Density of water+NaCl or what?\n",
    "    for i in range(0, ngr):\n",
    "        r = delg*(i+0.5) #what is this supposed to be?\n",
    "        vol = ((i+1)**3  - i**3 )*delg**3 #why is this a volume and then its used in the 4/3 pi r^3 rho formula, weird\n",
    "        nid = (4/3)*np.pi*vol*rho  #according to the description a density\n",
    "        g(i) = g(i)/(ngr*npart*nid) #ngr is the pair number? npart?  \n",
    "    return g"
   ]
  }
 ],
 "metadata": {
  "interpreter": {
   "hash": "73cd9ae7a6ba31af761c56d4bd9525bdb85d94ce10f402f23cb9624aa5128c81"
  },
  "kernelspec": {
   "display_name": "Python 3.8.8 ('gp-env')",
   "language": "python",
   "name": "python3"
  },
  "language_info": {
   "codemirror_mode": {
    "name": "ipython",
    "version": 3
   },
   "file_extension": ".py",
   "mimetype": "text/x-python",
   "name": "python",
   "nbconvert_exporter": "python",
   "pygments_lexer": "ipython3",
   "version": "3.8.8"
  },
  "orig_nbformat": 4
 },
 "nbformat": 4,
 "nbformat_minor": 2
}
