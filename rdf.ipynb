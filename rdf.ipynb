{
 "cells": [
  {
   "cell_type": "code",
   "execution_count": 92,
   "metadata": {},
   "outputs": [],
   "source": [
    "import numpy as np\n",
    "import matplotlib.pyplot as plt"
   ]
  },
  {
   "cell_type": "code",
   "execution_count": 93,
   "metadata": {},
   "outputs": [],
   "source": [
    "#we need to read the file\n",
    "#../input_data/trajNaCl.pdb\n",
    "#500 timeframes\n",
    "\n",
    "#bash command to filter\n",
    "#grep ATOM trajNaCl.pdb | tr -s ' ' | cut -d' ' -f6-8 > filter_trajNaCl.txt"
   ]
  },
  {
   "cell_type": "code",
   "execution_count": 94,
   "metadata": {},
   "outputs": [],
   "source": [
    "def data_init():\n",
    "    data = np.loadtxt(\"../input_data/filter_trajNaCl.txt\") #500 blocks of 40 lines\n",
    "    cell = 31.47\n",
    "    bins = 8 #total number of bins, also affects the amount of values g gets\n",
    "    ngr = 0 # what is ngr for ?\n",
    "    delg = cell/(2*bins) #delg is bin size\n",
    "    g = np.zeros(bins) \n",
    "    #First chunk over\n",
    "    npart = chunk*501 #amount of particles\n",
    "    chunk = 40\n",
    "    return data, cell, bins, ngr, delg, g, npart, chunk"
   ]
  },
  {
   "cell_type": "code",
   "execution_count": 95,
   "metadata": {},
   "outputs": [],
   "source": [
    "def rdf(g, ngr, cell, data, delg, npart, chunk):\n",
    "    for k in range(0, npart, chunk): #k for the different chunks/timeframes\n",
    "        ngr = ngr + 1   #not very improtant, only used for normalization\n",
    "        for i in range(k+0, k+chunk-1):\n",
    "            for j in range(i+1, k+chunk): #This should be OK\n",
    "                #distance between a particle pair\n",
    "                r = data[i]-data[j]\n",
    "                #implement periodic boundary conditions\n",
    "                r = r - cell*np.round(r/cell)\n",
    "                r = np.linalg.norm(r)\n",
    "                #half-box check & contribution\n",
    "                if r <= cell/2: #what is the reasoning here?\n",
    "                    l = int(r/delg) #ok so l has to be a scalar, but r is a vector and delg as well...\n",
    "                    g[l] = g[l] + 2\n",
    "    return g, ngr"
   ]
  },
  {
   "cell_type": "code",
   "execution_count": 96,
   "metadata": {},
   "outputs": [],
   "source": [
    "def grdf(g, ngr, bins, npart, cell):\n",
    "    #rho = 20/cell**3 #That would be the density? It really doesn't seem to change much for the graph\n",
    "    #So far the problems seems to be the normalization of g(r\n",
    "    #1gr/cm^3\n",
    "    #this is just for the normalization so tis not very important\n",
    "    rho = (cell*3)/npart\n",
    "    r = [] \n",
    "    for i in range(0, bins):\n",
    "        r.append(delg*(i+0.5))  #So this will be the x-axis\n",
    "        vol = ((i+1)**3  - i**3 )*delg**3 \n",
    "        nid = (4/3)*np.pi*vol*rho  \n",
    "        #vol and nid, seem a bit weird to me\n",
    "        g[i] = g[i]/(ngr*npart*nid)  \n",
    "        #This is the normalization part, I need a a proper value for rho\n",
    "    return g, r"
   ]
  },
  {
   "cell_type": "code",
   "execution_count": 97,
   "metadata": {},
   "outputs": [],
   "source": [
    "data, cell, bins, ngr, delg, g, npart, chunk = data_init()\n",
    "g, ngr = rdf(g, ngr, cell, data, delg, npart, chunk)\n",
    "g, r = grdf(g, ngr, bins, npart, cell)"
   ]
  },
  {
   "cell_type": "code",
   "execution_count": 98,
   "metadata": {},
   "outputs": [
    {
     "name": "stdout",
     "output_type": "stream",
     "text": [
      "length of g: 8\n",
      "values of g: [0.         0.00024202 0.00061633 0.00054023 0.00052603 0.00053493\n",
      " 0.00052876 0.00053309]\n"
     ]
    }
   ],
   "source": [
    "print(\"length of g:\", np.size(g))\n",
    "print(\"values of g:\", g)"
   ]
  },
  {
   "cell_type": "code",
   "execution_count": 99,
   "metadata": {},
   "outputs": [
    {
     "data": {
      "text/plain": [
       "(0.0, 0.00067796549786597)"
      ]
     },
     "execution_count": 99,
     "metadata": {},
     "output_type": "execute_result"
    },
    {
     "data": {
      "image/png": "[encoded data removed]",
      "text/plain": [
       "<Figure size 432x288 with 1 Axes>"
      ]
     },
     "metadata": {
      "needs_background": "light"
     },
     "output_type": "display_data"
    }
   ],
   "source": [
    "plt.plot(r, g)\n",
    "plt.xlabel('r')\n",
    "plt.vlines(1, 0, 2*np.max(g), colors=\"red\")\n",
    "plt.ylabel('g(r)')\n",
    "plt.xlim( (0, np.max(r)*1.1) )\n",
    "plt.ylim( (0, np.max(g)*1.1) )"
   ]
  }
 ],
 "metadata": {
  "interpreter": {
   "hash": "73cd9ae7a6ba31af761c56d4bd9525bdb85d94ce10f402f23cb9624aa5128c81"
  },
  "kernelspec": {
   "display_name": "Python 3.8.8 ('gp-env')",
   "language": "python",
   "name": "python3"
  },
  "language_info": {
   "codemirror_mode": {
    "name": "ipython",
    "version": 3
   },
   "file_extension": ".py",
   "mimetype": "text/x-python",
   "name": "python",
   "nbconvert_exporter": "python",
   "pygments_lexer": "ipython3",
   "version": "3.8.8"
  },
  "orig_nbformat": 4
 },
 "nbformat": 4,
 "nbformat_minor": 2
}
